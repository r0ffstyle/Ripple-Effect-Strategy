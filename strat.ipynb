{
 "cells": [
  {
   "cell_type": "markdown",
   "id": "2564214d",
   "metadata": {},
   "source": [
    "## <center> **Latency Arbitrage**  \n",
    "\n",
    "This notebook implements a latency arbitrage, identifying significant trades on Binance and executes trades on HyperLiquid based on order book imbalance signals.\n",
    "\n",
    "### Key Features\n",
    "1. **Slippage Modeling**\n",
    "   - Order book walking with latency simulation\n",
    "   - Transaction cost modeling\n",
    "   - Dynamic liquidity impact estimation\n",
    "\n",
    "2. **Statistical Significance Testing**\n",
    "   - Bootstrap analysis for confidence intervals\n",
    "   - Power analysis for sample size estimation"
   ]
  },
  {
   "cell_type": "code",
   "execution_count": 24,
   "id": "eeef299d",
   "metadata": {},
   "outputs": [
    {
     "name": "stdout",
     "output_type": "stream",
     "text": [
      "The autoreload extension is already loaded. To reload it, use:\n",
      "  %reload_ext autoreload\n"
     ]
    }
   ],
   "source": [
    "import numpy as np\n",
    "import pandas as pd\n",
    "import matplotlib.pyplot as plt\n",
    "import importlib\n",
    "import logging\n",
    "from collections import defaultdict\n",
    "from tqdm import tqdm\n",
    "from statsmodels.stats.power import TTestPower\n",
    "from scipy import stats\n",
    "import matplotlib.dates as mdates\n",
    "from scipy.stats import ttest_1samp\n",
    "from typing import List, Dict, Tuple, Any, Optional, Union\n",
    "\n",
    "# Auto-reload external module changes without restarting\n",
    "%load_ext autoreload\n",
    "%autoreload 2\n",
    "\n",
    "# Import our code\n",
    "import data_loader as dl\n",
    "import utils as ref\n",
    "\n",
    "# Configure logging\n",
    "logging.basicConfig(level=logging.INFO, format='%(asctime)s - %(levelname)s - %(message)s')\n",
    "\n",
    "# For cleaner pandas output\n",
    "pd.set_option('expand_frame_repr', False)"
   ]
  },
  {
   "cell_type": "markdown",
   "id": "82d288ab",
   "metadata": {},
   "source": [
    "## Strategy Overview\n",
    "\n",
    "The idea is that large trades on Binance may cause short-term price changes that propagate to HyperLiquid. By detecting these \"significant trades\" quickly, we can enter positions on HyperLiquid, factoring in order book imbalance for additional confirmation, and exit once we achieve a certain profit threshold relative to fees.\n",
    "\n",
    "- We define *significant* trades on Binance as those above a very high\n",
    "  volume, to capture only the largest moves.\n",
    "- On HyperLiquid, we watch the order book imbalance at the time we get\n",
    "  the signal. If it supports going long, we take a buy position; if it supports going\n",
    "  short, we take a sell position.\n",
    "- The backtest simulates realistic conditions, including:\n",
    "     * Slippage from walking the order book\n",
    "     * Latency, which reduces available liquidity\n",
    "     * Taker/maker fees\n",
    "     * A maximum holding period, after which we exit regardless\n",
    "\n",
    "The code also includes statistical significance tests, such as:\n",
    " - Bootstrap for confidence intervals\n",
    " - Power analysis to estimate how many trades we need to achieve significance"
   ]
  },
  {
   "cell_type": "code",
   "execution_count": 25,
   "id": "75cdf14a",
   "metadata": {},
   "outputs": [],
   "source": [
    "# Parameters for data retrieval\n",
    "SYMBOL = 'OMNI'\n",
    "START_MONTH = 5\n",
    "END_MONTH = 12\n",
    "YEAR = 2024"
   ]
  },
  {
   "cell_type": "code",
   "execution_count": 26,
   "id": "1fd043e1",
   "metadata": {},
   "outputs": [
    {
     "name": "stderr",
     "output_type": "stream",
     "text": [
      "2025-05-04 15:39:48,809 - INFO - Loading Binance trades from cache: cache/binance_OMNI_2024_5_12.pkl\n"
     ]
    }
   ],
   "source": [
    "# Load Binance trades (signal data)\n",
    "binance_trades = dl.load_binance_trades_monthly(\n",
    "    SYMBOL, \n",
    "    YEAR, \n",
    "    START_MONTH, \n",
    "    END_MONTH,\n",
    "    file_extension='parquet'\n",
    ")"
   ]
  },
  {
   "cell_type": "code",
   "execution_count": 27,
   "id": "6f2ac1f5",
   "metadata": {},
   "outputs": [
    {
     "name": "stderr",
     "output_type": "stream",
     "text": [
      "2025-05-04 15:39:48,992 - INFO - Loading Binance trades from cache: cache/binance_OMNI_2024_5_12.pkl\n",
      "2025-05-04 15:39:49,076 - INFO - Loading monthly LOB file (1/8): ../data/processed_lob_data\\OMNI\\OMNI_LOB_202405.parquet.gz\n",
      "2025-05-04 15:39:49,304 - INFO - Loading monthly LOB file (2/8): ../data/processed_lob_data\\OMNI\\OMNI_LOB_202406.parquet.gz\n",
      "2025-05-04 15:39:49,500 - INFO - Loading monthly LOB file (3/8): ../data/processed_lob_data\\OMNI\\OMNI_LOB_202407.parquet.gz\n",
      "2025-05-04 15:39:49,692 - INFO - Loading monthly LOB file (4/8): ../data/processed_lob_data\\OMNI\\OMNI_LOB_202408.parquet.gz\n",
      "2025-05-04 15:39:49,867 - INFO - Loading monthly LOB file (5/8): ../data/processed_lob_data\\OMNI\\OMNI_LOB_202409.parquet.gz\n",
      "2025-05-04 15:39:50,051 - INFO - Loading monthly LOB file (6/8): ../data/processed_lob_data\\OMNI\\OMNI_LOB_202410.parquet.gz\n",
      "2025-05-04 15:39:50,260 - INFO - Loading monthly LOB file (7/8): ../data/processed_lob_data\\OMNI\\OMNI_LOB_202411.parquet.gz\n",
      "2025-05-04 15:39:50,482 - INFO - Loading monthly LOB file (8/8): ../data/processed_lob_data\\OMNI\\OMNI_LOB_202412.parquet.gz\n",
      "2025-05-04 15:39:54,440 - INFO - Final LOB shape: (34635289, 7)\n"
     ]
    },
    {
     "name": "stdout",
     "output_type": "stream",
     "text": [
      "Binance trades shape: (4632653, 6)\n",
      "LOB data shape: (34635289, 7)\n",
      "\n",
      "Binance trades sample:\n",
      "                         trade_id  price    qty  quote_qty  is_buyer_maker  is_best_match\n",
      "timestamp                                                                                \n",
      "2024-05-01 00:00:19.244   2676173  18.29   0.39     7.1331           False           True\n",
      "2024-05-01 00:00:25.779   2676185  18.26  35.27   644.0302            True           True\n",
      "2024-05-01 00:00:25.784   2676188  18.28   1.31    23.9468           False           True\n",
      "2024-05-01 00:00:25.785   2676189  18.28   1.31    23.9468           False           True\n",
      "2024-05-01 00:00:25.790   2676190  18.27   1.31    23.9337           False           True\n",
      "\n",
      "LOB data sample:\n",
      "                         BidPrice_1   BidSize_1  AskPrice_1   AskSize_1   MidPrice  Imbalance  Microprice\n",
      "time                                                                                                     \n",
      "2024-05-01 00:00:06.441   18.292999  186.630005     18.3120  209.770004  18.302500   0.058375   18.301945\n",
      "2024-05-01 00:00:07.357   18.292999  211.419998     18.3090  447.890015  18.300999   0.358663   18.298130\n",
      "2024-05-01 00:00:08.009   18.292999   34.139999     18.3090  447.890015  18.300999   0.858349   18.294132\n",
      "2024-05-01 00:00:08.926   18.292999   34.139999     18.3090  447.890015  18.300999   0.858349   18.294132\n",
      "2024-05-01 00:00:09.843   18.290001  401.200012     18.3090  447.890015  18.299500   0.054988   18.298977\n",
      "...                             ...         ...         ...         ...        ...        ...         ...\n",
      "2024-12-20 23:59:55.132    9.514700  330.440002      9.5178  299.309998   9.516251  -0.049432    9.516327\n",
      "2024-12-20 23:59:55.735    9.514700  178.119995      9.5178  149.309998   9.516251  -0.087988    9.516386\n",
      "2024-12-20 23:59:56.338    9.517600  171.520004      9.5199  322.779999   9.518750   0.306008    9.518398\n",
      "2024-12-20 23:59:56.942    9.517600  171.520004      9.5199  147.330002   9.518750  -0.075866    9.518838\n",
      "2024-12-20 23:59:57.544    9.518600  336.670013      9.5239  315.420013   9.521250  -0.032588    9.521337\n",
      "\n",
      "[34635289 rows x 7 columns]\n"
     ]
    }
   ],
   "source": [
    "# Load Binance trades (signal data)\n",
    "binance_trades = dl.load_binance_trades_monthly(\n",
    "    SYMBOL, \n",
    "    YEAR, \n",
    "    START_MONTH, \n",
    "    END_MONTH\n",
    ")\n",
    "\n",
    "# Load processed LOB data for HyperLiquid (target data)\n",
    "hl_book_resampled = dl.load_minimal_lob_data(SYMBOL, year=2024, start_month=START_MONTH, end_month=END_MONTH, base_path='../data/processed_lob_data')\n",
    "\n",
    "print(f\"Binance trades shape: {binance_trades.shape}\")\n",
    "print(f\"LOB data shape: {hl_book_resampled.shape}\")\n",
    "\n",
    "# Display small sample\n",
    "print(\"\\nBinance trades sample:\")\n",
    "print(binance_trades.head())\n",
    "\n",
    "print(\"\\nLOB data sample:\")\n",
    "print(hl_book_resampled)"
   ]
  },
  {
   "cell_type": "markdown",
   "id": "2d9fc25a",
   "metadata": {},
   "source": [
    "### **Significant Trade Identification and Alignment**"
   ]
  },
  {
   "cell_type": "markdown",
   "id": "aa3167f8",
   "metadata": {},
   "source": [
    "- Filter down to a relevant time range on Binance\n",
    "- Identify trades above a certain quantile threshold\n",
    "- Align these \"significant trades\" to the nearest HyperLiquid LOB snapshot, applying a time offset"
   ]
  },
  {
   "cell_type": "code",
   "execution_count": 28,
   "id": "c924db33",
   "metadata": {},
   "outputs": [
    {
     "name": "stderr",
     "output_type": "stream",
     "text": [
      "2025-05-04 15:39:54,982 - INFO - Identified 920 significant trades via rolling threshold approach.\n",
      "2025-05-04 15:39:54,993 - INFO - Loading aligned trades from cache: cache/aligned_trades_-9049700512920501897.pkl\n"
     ]
    },
    {
     "name": "stdout",
     "output_type": "stream",
     "text": [
      "Number of significant trades identified: 920\n",
      "Number of significant trades aligned to LOB: 920\n",
      "Number of significant trades identified: 920\n",
      "Number of significant trades aligned to LOB: 920\n"
     ]
    }
   ],
   "source": [
    "# Filter Binance trades to our target date range\n",
    "if not binance_trades.empty:\n",
    "    start_t = pd.Timestamp('2024-05-01')\n",
    "    end_t = pd.Timestamp('2024-12-20 23:59:59')\n",
    "    binance_trades_rs = binance_trades.loc[start_t:end_t]\n",
    "\n",
    "    # We now show how to use rolling threshold\n",
    "    sig_trades = dl.identify_significant_trades(\n",
    "       binance_trades_rs, use_rolling_threshold=True, rolling_window='7d', rolling_multiplier=25.0\n",
    "    )\n",
    "else:\n",
    "    sig_trades = pd.DataFrame()\n",
    "\n",
    "# Align trades with LOB snapshots\n",
    "if not sig_trades.empty and not hl_book_resampled.empty:\n",
    "    sig_trades_aligned = dl.align_trades_to_lob(sig_trades, hl_book_resampled, time_offset_ms=100)\n",
    "else:\n",
    "    sig_trades_aligned = pd.DataFrame()\n",
    "\n",
    "print(f\"Number of significant trades identified: {len(sig_trades)}\")\n",
    "print(f\"Number of significant trades aligned to LOB: {len(sig_trades_aligned)}\")\n",
    "    \n",
    "\n",
    "print(f\"Number of significant trades identified: {len(sig_trades)}\")\n",
    "print(f\"Number of significant trades aligned to LOB: {len(sig_trades_aligned)}\")"
   ]
  },
  {
   "cell_type": "markdown",
   "id": "faf13660",
   "metadata": {},
   "source": [
    "## <center> **Backtest**\n",
    "\n",
    "We configure base parameters for the backtest, including fees, size constraints, maximum holding, slippage settings, etc. Then we run the backtest on our aligned trades and examine the performance metrics."
   ]
  },
  {
   "cell_type": "code",
   "execution_count": 31,
   "id": "356c6ef6",
   "metadata": {},
   "outputs": [
    {
     "name": "stdout",
     "output_type": "stream",
     "text": [
      "Running backtest...\n",
      "\n",
      "\n",
      "--- Backtest Summary ---\n",
      "Total Profit: 206.0727\n",
      "Successful Trades: 83\n",
      "Failed Trades: 25\n",
      "Win Rate: 76.85%\n",
      "Skipped: 806\n",
      "Avg Entry Slippage: 0\n",
      "Avg Exit Slippage: 0\n",
      "Avg Profit Per Trade: 1.9081\n",
      "Profit Std Dev: 3.8319\n",
      "Max Profit: 26.9950\n",
      "Min Profit: -6.1761\n",
      "Total Trades: 108\n",
      "Max Drawdown: 0.0006\n",
      "Sharpe Ratio: 0.4979\n",
      "Annualized Sharpe: 6.5070\n",
      "Sortino Ratio: 1.5964\n"
     ]
    },
    {
     "data": {
      "image/png": "[encoded data removed]",
      "text/plain": [
       "<Figure size 700x500 with 2 Axes>"
      ]
     },
     "metadata": {},
     "output_type": "display_data"
    }
   ],
   "source": [
    "base_params = {\n",
    "    'taker_fee': 0.00039,\n",
    "    'maker_fee': 0.00010,\n",
    "    'fee_multiple': 2,\n",
    "    'capital': 10_000,\n",
    "    'min_size': 10,\n",
    "    'max_size': 100,\n",
    "    'imb_threshold_long': -0.70,\n",
    "    'imb_threshold_short': 0.70,\n",
    "    'use_microprice': True,\n",
    "    'use_trailing_stop': True,\n",
    "    'trailing_activation_bps': 2,\n",
    "    'trailing_distance_bps': 5,\n",
    "    'max_risk_pct': 0.50,\n",
    "    'simulate_slippage': True,\n",
    "    'slippage_factor': 1.0,\n",
    "    'mean_latency_ms': 50,\n",
    "    'std_dev_latency_ms': 10\n",
    "}\n",
    "\n",
    "if not sig_trades_aligned.empty and not hl_book_resampled.empty:\n",
    "    print(\"Running backtest...\\n\")\n",
    "    \n",
    "    summary_with_slippage, results = ref.backtest(\n",
    "        sig_trades_aligned,\n",
    "        hl_book_resampled,\n",
    "        **base_params\n",
    "    )\n",
    "    \n",
    "    # Print the summary metrics\n",
    "    print(\"\\n--- Backtest Summary ---\")\n",
    "    for k, v in summary_with_slippage.items():\n",
    "        if k == 'Win Rate':\n",
    "            print(f\"{k}: {v:.2%}\")\n",
    "        elif isinstance(v, float):\n",
    "            print(f\"{k}: {v:.4f}\")\n",
    "        else:\n",
    "            print(f\"{k}: {v}\")\n",
    "    \n",
    "    # If we have trade-by-trade data, create a results DataFrame and plot\n",
    "    if results:\n",
    "        df_results_with = pd.DataFrame(results)\n",
    "        df_results_with['cumulative_profit'] = df_results_with['profit'].cumsum()\n",
    "        \n",
    "        # Plot the results: cumulative PnL, distribution of trades, etc.\n",
    "        ref.plot_results(df_results_with)\n",
    "        \n",
    "        # Also store returns = profit / capital\n",
    "        df_results_with['return'] = df_results_with['profit'] / base_params['capital']\n",
    "else:\n",
    "    print(\"Insufficient data for a backtest.\")"
   ]
  },
  {
   "cell_type": "markdown",
   "id": "a7f46346",
   "metadata": {},
   "source": [
    "## <center> **Statistical Significance Analysis**\n",
    "\n",
    "We use  \n",
    "* **Block bootstrap** – to build a confidence interval for the mean return.  \n",
    "* **Power analysis** – to estimate how many trades we need for a reliable test.\n",
    "\n",
    "### <center> **Why a Block Bootstrap?**\n",
    "\n",
    "Classical tests assume each trade’s return is IID and roughly Normal. Latency-arb P&L violates this because:\n",
    "\n",
    "* **Clustering/autocorrelation** – trades arrive in bursts after large prints, so nearby returns are dependent.\n",
    "* **Regime shifts** – intraday volatility changes; news spikes create 10 $\\times$ outliers.\n",
    "* **Small sample** – with only $\\approx$ 100 trades, large-$n$ (asymptotic normal) theory is shaky.\n",
    "\n",
    "A block bootstrap keeps those short-run dependencies intact while estimating sampling uncertainty.\n",
    "\n",
    "#### <center> **How it works**\n",
    "1. **Bundle trades into blocks.**  \n",
    "   We cut the return series into consecutive 5-trade chunks, *blocks*.  \n",
    "2. **Resample blocks with replacement.**  \n",
    "   We randomly pick blocks, with duplicates allowed, and glue them back-to-back until we rebuild a series of the original length.  \n",
    "   *Blocks preserve the local dependence inside each burst.*  \n",
    "3. **Compute the statistic.**  \n",
    "   For each resampled series we record the average return.  \n",
    "4. **Repeat thousands of times.**  \n",
    "   The collection of these \"what-if\" averages gives  \n",
    "   * an **$(1 - \\alpha)$ CI** – the central 95 % of bootstrap means, and  \n",
    "   * a **p-value** – the fraction of bootstrap means $\\le 0$ for our one-sided test.\n",
    "\n",
    "Because the bootstrap respects serial correlation, heavy tails, and heteroskedasticity, it gives a more trustworthy answer to:\n",
    "\n",
    "> *Is our average edge still positive once we acknowledge trades come in correlated bursts?*"
   ]
  },
  {
   "cell_type": "code",
   "execution_count": 32,
   "id": "613f7143",
   "metadata": {},
   "outputs": [
    {
     "name": "stdout",
     "output_type": "stream",
     "text": [
      "\n",
      "--- Bootstrap Analysis ---\n",
      "Mean return          : 0.000191\n",
      "95 % CI (percentile) : [0.000121, 0.000248]\n",
      "One-sided p-value    : 0.000000\n"
     ]
    },
    {
     "data": {
      "image/png": "[encoded data removed]",
      "text/plain": [
       "<Figure size 700x400 with 1 Axes>"
      ]
     },
     "metadata": {},
     "output_type": "display_data"
    },
    {
     "name": "stdout",
     "output_type": "stream",
     "text": [
      "Required Sample Size for 80% Power: 34 trades\n",
      "Current Sample: 108 trades (100.0% of required)\n"
     ]
    }
   ],
   "source": [
    "if 'df_results_with' in locals() and not df_results_with.empty:\n",
    "    returns = df_results_with['return'].values\n",
    "    \n",
    "    # Bootstrap analysis\n",
    "    mean_ret, (ci_low, ci_high), p_val = ref.bootstrap_returns(\n",
    "        returns       = returns,\n",
    "        iterations    = 50_000,\n",
    "        confidence    = 0.95,\n",
    "        block_size    = 5,        # keep ≥ typical trade cluster length\n",
    "        side          = \"greater\" # H1: edge > 0\n",
    "    )\n",
    "    \n",
    "    print(\"\\n--- Bootstrap Analysis ---\")\n",
    "    print(f\"Mean return          : {mean_ret:.6f}\")\n",
    "    print(f\"95 % CI (percentile) : [{ci_low:.6f}, {ci_high:.6f}]\")\n",
    "    print(f\"One-sided p-value    : {p_val:.6f}\")\n",
    "    \n",
    "    ref.plot_bootstrap_analysis(\n",
    "        returns,\n",
    "        bootstrap_mean=mean_ret,\n",
    "        conf_interval=(ci_low, ci_high),\n",
    "        title=\"Bootstrap Analysis of Returns\"\n",
    "    )\n",
    "    \n",
    "    # Power analysis\n",
    "    required_sample = ref.calculate_power_sample_size(returns)\n",
    "    print(f\"Required Sample Size for 80% Power: {required_sample:.0f} trades\")\n",
    "    if np.isfinite(required_sample):\n",
    "        current_percentage = (len(returns) / required_sample) * 100\n",
    "        current_percentage = min(current_percentage, 100)\n",
    "        print(f\"Current Sample: {len(returns)} trades ({current_percentage:.1f}% of required)\")\n",
    "    else:\n",
    "        print(\"Insufficient or invalid data for a power calculation.\")"
   ]
  }
 ],
 "metadata": {
  "kernelspec": {
   "display_name": "stats",
   "language": "python",
   "name": "python3"
  },
  "language_info": {
   "codemirror_mode": {
    "name": "ipython",
    "version": 3
   },
   "file_extension": ".py",
   "mimetype": "text/x-python",
   "name": "python",
   "nbconvert_exporter": "python",
   "pygments_lexer": "ipython3",
   "version": "3.12.2"
  }
 },
 "nbformat": 4,
 "nbformat_minor": 5
}
